{
 "cells": [
  {
   "cell_type": "code",
   "execution_count": 27,
   "metadata": {},
   "outputs": [],
   "source": [
    "from azure.identity import ClientSecretCredential\n",
    "from langchain.chat_models import AzureChatOpenAI\n",
    "from langchain.agents import create_csv_agent\n",
    "import pandas as pd\n",
    "import configs.constants as const\n",
    "import configs.deployments as dep\n",
    "from langchain.callbacks import get_openai_callback"
   ]
  },
  {
   "cell_type": "code",
   "execution_count": 28,
   "metadata": {},
   "outputs": [],
   "source": [
    "# authenticate to Azure\n",
    "credentials = ClientSecretCredential(const.IQVIA_TENANT_ID, const.SERVICE_PRINCIPAL, const.SERVICE_PRINCIPAL_SECRET)\n",
    "token = credentials.get_token(const.SCOPE_NON_INTERACTIVE)"
   ]
  },
  {
   "cell_type": "code",
   "execution_count": 29,
   "metadata": {},
   "outputs": [
    {
     "data": {
      "text/html": [
       "<div>\n",
       "<style scoped>\n",
       "    .dataframe tbody tr th:only-of-type {\n",
       "        vertical-align: middle;\n",
       "    }\n",
       "\n",
       "    .dataframe tbody tr th {\n",
       "        vertical-align: top;\n",
       "    }\n",
       "\n",
       "    .dataframe thead th {\n",
       "        text-align: right;\n",
       "    }\n",
       "</style>\n",
       "<table border=\"1\" class=\"dataframe\">\n",
       "  <thead>\n",
       "    <tr style=\"text-align: right;\">\n",
       "      <th></th>\n",
       "      <th>Unnamed: 0</th>\n",
       "      <th>PROD_CUSTOM_LVL1_DESC</th>\n",
       "      <th>COUNT(1)</th>\n",
       "    </tr>\n",
       "  </thead>\n",
       "  <tbody>\n",
       "    <tr>\n",
       "      <th>0</th>\n",
       "      <td>0</td>\n",
       "      <td>ADBRY</td>\n",
       "      <td>2</td>\n",
       "    </tr>\n",
       "    <tr>\n",
       "      <th>1</th>\n",
       "      <td>1</td>\n",
       "      <td>CIBINQO</td>\n",
       "      <td>3</td>\n",
       "    </tr>\n",
       "    <tr>\n",
       "      <th>2</th>\n",
       "      <td>2</td>\n",
       "      <td>DUPIXENT</td>\n",
       "      <td>10</td>\n",
       "    </tr>\n",
       "    <tr>\n",
       "      <th>3</th>\n",
       "      <td>3</td>\n",
       "      <td>RINVOQ</td>\n",
       "      <td>4</td>\n",
       "    </tr>\n",
       "    <tr>\n",
       "      <th>4</th>\n",
       "      <td>4</td>\n",
       "      <td>TALTZ</td>\n",
       "      <td>8</td>\n",
       "    </tr>\n",
       "  </tbody>\n",
       "</table>\n",
       "</div>"
      ],
      "text/plain": [
       "   Unnamed: 0 PROD_CUSTOM_LVL1_DESC  COUNT(1)\n",
       "0           0                 ADBRY         2\n",
       "1           1               CIBINQO         3\n",
       "2           2              DUPIXENT        10\n",
       "3           3                RINVOQ         4\n",
       "4           4                 TALTZ         8"
      ]
     },
     "execution_count": 29,
     "metadata": {},
     "output_type": "execute_result"
    }
   ],
   "source": [
    "# split excel sheets into csv files\n",
    "df_0601 = pd.read_excel('C:\\\\Users\\\\u1128714\\\\Desktop\\\\langchain\\\\QC_summary_2023_06_1_subnational.xlsx', sheet_name=None)\n",
    "for sheet_name in df_0601.keys():\n",
    "    df_0601[sheet_name].to_csv(sheet_name + '_0601.csv', index=False)\n",
    "df_0602 = pd.read_excel('C:\\\\Users\\\\u1128714\\\\Desktop\\\\langchain\\\\QC_summary_2023_06_2_subnational.xlsx', sheet_name=None)\n",
    "for sheet_name in df_0602.keys():\n",
    "    df_0602[sheet_name].to_csv(sheet_name + '_0602.csv', index=False)\n",
    "df_ref_prod_0601 = pd.read_csv(\"C:\\\\Users\\\\u1128714\\\\Desktop\\\\langchain\\\\ref_prod_0601.csv\")\n",
    "df_ref_prod_0601.head()\n",
    "df_ref_prod_0602 = pd.read_csv(\"C:\\\\Users\\\\u1128714\\\\Desktop\\\\langchain\\\\ref_prod_0602.csv\")\n",
    "df_ref_prod_0602.head()"
   ]
  },
  {
   "cell_type": "code",
   "execution_count": 30,
   "metadata": {},
   "outputs": [],
   "source": [
    "llm = AzureChatOpenAI(\n",
    "    openai_api_base=f\"{const.OPENAI_API_BASE}/{const.OPENAI_API_TYPE}/{const.OPENAI_ACCOUNT_NAME}\",\n",
    "    openai_api_version=const.OPENAI_API_VERSION,\n",
    "    openai_api_key=token.token,\n",
    "    deployment_name=dep.GPT_35_TURBO,\n",
    "    openai_api_type=\"azure_ad\")\n",
    "\n",
    "agent = create_csv_agent(llm, ['ref_prod_0601.csv', 'ref_prod_0602.csv'], verbose=True)"
   ]
  },
  {
   "cell_type": "code",
   "execution_count": 31,
   "metadata": {},
   "outputs": [
    {
     "name": "stdout",
     "output_type": "stream",
     "text": [
      "\n",
      "\n",
      "\u001b[1m> Entering new  chain...\u001b[0m\n",
      "\u001b[32;1m\u001b[1;3mThought: I need to merge the two dataframes on the PROD_CUSTOM_LVL1_DESC column and then calculate the differences in COUNT(1) for each product.\n",
      "Action: python_repl_ast\n",
      "Action Input:\n",
      "```\n",
      "merged_df = df1.merge(df2, on='PROD_CUSTOM_LVL1_DESC', suffixes=('_df1', '_df2'))\n",
      "merged_df['count_difference'] = merged_df['COUNT(1)_df2'] - merged_df['COUNT(1)_df1']\n",
      "merged_df['changing_percent'] = merged_df['count_difference'] / merged_df['COUNT(1)_df1'] * 100\n",
      "result_df = merged_df[['PROD_CUSTOM_LVL1_DESC', 'COUNT(1)_df1', 'COUNT(1)_df2', 'count_difference', 'changing_percent']]\n",
      "result_df = result_df[result_df['count_difference'] != 0]\n",
      "result_df = result_df.sort_values(by='count_difference', ascending=False)\n",
      "print(result_df)\n",
      "```\u001b[0m\n",
      "Observation: \u001b[36;1m\u001b[1;3m  PROD_CUSTOM_LVL1_DESC  COUNT(1)_df1  COUNT(1)_df2  count_difference  \\\n",
      "0                 ADBRY            12             2               -10   \n",
      "\n",
      "   changing_percent  \n",
      "0        -83.333333  \n",
      "\u001b[0m\n",
      "Thought:\u001b[32;1m\u001b[1;3mThe only product with a count difference is ADBRY, which has a count difference of -10 and a changing percent of -83.33%.\n",
      "Final Answer: ADBRY has a count difference of -10 and a changing percent of -83.33%.\u001b[0m\n",
      "\n",
      "\u001b[1m> Finished chain.\u001b[0m\n",
      "Total Tokens: 1514\n",
      "Prompt Tokens: 1257\n",
      "Completion Tokens: 257\n",
      "Total Cost (USD): $0.0030280000000000003\n"
     ]
    },
    {
     "data": {
      "text/plain": [
       "'ADBRY has a count difference of -10 and a changing percent of -83.33%.'"
      ]
     },
     "execution_count": 31,
     "metadata": {},
     "output_type": "execute_result"
    }
   ],
   "source": [
    "with get_openai_callback() as cb:\n",
    "    response = agent.run(\"How different the PROD_CUSTOM_LVL1_DESC count is in the two files, just list the different product and count and changing percent?\")\n",
    "    print(f\"Total Tokens: {cb.total_tokens}\")\n",
    "    print(f\"Prompt Tokens: {cb.prompt_tokens}\")\n",
    "    print(f\"Completion Tokens: {cb.completion_tokens}\")\n",
    "    print(f\"Total Cost (USD): ${cb.total_cost}\")\n",
    "response"
   ]
  }
 ],
 "metadata": {
  "kernelspec": {
   "display_name": "Python 3",
   "language": "python",
   "name": "python3"
  },
  "language_info": {
   "codemirror_mode": {
    "name": "ipython",
    "version": 3
   },
   "file_extension": ".py",
   "mimetype": "text/x-python",
   "name": "python",
   "nbconvert_exporter": "python",
   "pygments_lexer": "ipython3",
   "version": "3.9.16"
  },
  "orig_nbformat": 4
 },
 "nbformat": 4,
 "nbformat_minor": 2
}
